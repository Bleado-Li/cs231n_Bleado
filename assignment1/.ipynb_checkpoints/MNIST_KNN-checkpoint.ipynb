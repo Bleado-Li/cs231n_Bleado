{
 "cells": [
  {
   "cell_type": "code",
   "execution_count": 1,
   "metadata": {},
   "outputs": [
    {
     "name": "stdout",
     "output_type": "stream",
     "text": [
      "(60000, 784)\n",
      "(60000,)\n",
      "(10000, 784)\n",
      "(10000,)\n",
      "[5923, 6742, 5958, 6131, 5842, 5421, 5918, 6265, 5851, 5949]\n",
      "[980, 1135, 1032, 1010, 982, 892, 958, 1028, 974, 1009]\n"
     ]
    }
   ],
   "source": [
    "import numpy as np\n",
    "import os\n",
    "#加载并可视化手写数字\n",
    "import matplotlib.pyplot as plt\n",
    "\n",
    "# 训练集\n",
    "with open('E:/pycharm/project/mnist_data/train-images.idx3-ubyte') as f:\n",
    "    loaded = np.fromfile(file = f, dtype = np.uint8)\n",
    "    train_data = loaded[16:].reshape((60000, 784))\n",
    "print(train_data.shape) # (60000, 784)\n",
    "\n",
    "\n",
    "with open('E:/pycharm/project/mnist_data/train-labels.idx1-ubyte') as f:\n",
    "    loaded = np.fromfile(file = f, dtype = np.uint8)\n",
    "    train_labels = loaded[8:]\n",
    "print(train_labels.shape) # (60000,)\n",
    "\n",
    "\n",
    "# 测试集\n",
    "with open('E:/pycharm/project/mnist_data/t10k-images.idx3-ubyte') as f:\n",
    "    loaded = np.fromfile(file=f, dtype=np.uint8)\n",
    "    test_data = loaded[16:].reshape((10000, 784))\n",
    "print(test_data.shape) # (10000, 784)\n",
    "\n",
    "with open('E:/pycharm/project/mnist_data/t10k-labels.idx1-ubyte') as f:\n",
    "    loaded = np.fromfile(file=f, dtype=np.uint8)\n",
    "    test_labels = loaded[8:].reshape((10000))\n",
    "print(test_labels.shape) # (10000,)\n",
    "# print(train_data[0])\n",
    "# print(train_labels[0])\n",
    "list = [0,0,0,0,0,0,0,0,0,0]\n",
    "for i  in train_labels:\n",
    "    list[i]+=1\n",
    "print(list)  \n",
    "list = [0,0,0,0,0,0,0,0,0,0]\n",
    "for i  in test_labels:\n",
    "    list[i]+=1\n",
    "print(list)"
   ]
  },
  {
   "cell_type": "code",
   "execution_count": null,
   "metadata": {},
   "outputs": [],
   "source": [
    "from cs231n.classifiers import KNearestNeighbor\n",
    "\n",
    "# Create a kNN classifier instance. \n",
    "# Remember that training a kNN classifier is a noop: \n",
    "# the Classifier simply remembers the data and does no further processing \n",
    "classifier = KNearestNeighbor()\n",
    "classifier.train(X_train, y_train)"
   ]
  }
 ],
 "metadata": {
  "kernelspec": {
   "display_name": "Python 3",
   "language": "python",
   "name": "python3"
  },
  "language_info": {
   "codemirror_mode": {
    "name": "ipython",
    "version": 3
   },
   "file_extension": ".py",
   "mimetype": "text/x-python",
   "name": "python",
   "nbconvert_exporter": "python",
   "pygments_lexer": "ipython3",
   "version": "3.6.12"
  }
 },
 "nbformat": 4,
 "nbformat_minor": 4
}
