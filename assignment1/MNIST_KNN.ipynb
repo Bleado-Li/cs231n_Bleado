{
 "cells": [
  {
   "cell_type": "code",
   "execution_count": 1,
   "metadata": {},
   "outputs": [
    {
     "name": "stdout",
     "output_type": "stream",
     "text": [
      "(60000, 784)\n",
      "(60000,)\n",
      "(10000, 784)\n",
      "(10000,)\n",
      "[5923, 6742, 5958, 6131, 5842, 5421, 5918, 6265, 5851, 5949]\n",
      "[980, 1135, 1032, 1010, 982, 892, 958, 1028, 974, 1009]\n"
     ]
    }
   ],
   "source": [
    "import numpy as np\n",
    "import os\n",
    "#加载并可视化手写数字\n",
    "import matplotlib.pyplot as plt\n",
    "\n",
    "# 训练集\n",
    "with open('E:/pycharm/project/mnist_data/train-images.idx3-ubyte') as f:\n",
    "    loaded = np.fromfile(file = f, dtype = np.uint8)\n",
    "    train_data = loaded[16:].reshape((60000, 784))\n",
    "print(train_data.shape) # (60000, 784)\n",
    "\n",
    "\n",
    "with open('E:/pycharm/project/mnist_data/train-labels.idx1-ubyte') as f:\n",
    "    loaded = np.fromfile(file = f, dtype = np.uint8)\n",
    "    train_labels = loaded[8:]\n",
    "print(train_labels.shape) # (60000,)\n",
    "\n",
    "\n",
    "# 测试集\n",
    "with open('E:/pycharm/project/mnist_data/t10k-images.idx3-ubyte') as f:\n",
    "    loaded = np.fromfile(file=f, dtype=np.uint8)\n",
    "    test_data = loaded[16:].reshape((10000, 784))\n",
    "print(test_data.shape) # (10000, 784)\n",
    "\n",
    "with open('E:/pycharm/project/mnist_data/t10k-labels.idx1-ubyte') as f:\n",
    "    loaded = np.fromfile(file=f, dtype=np.uint8)\n",
    "    test_labels = loaded[8:].reshape((10000))\n",
    "print(test_labels.shape) # (10000,)\n",
    "# print(train_data[0])\n",
    "# print(train_labels[0])\n",
    "list = [0,0,0,0,0,0,0,0,0,0]\n",
    "for i  in train_labels:\n",
    "    list[i]+=1\n",
    "print(list)  \n",
    "list = [0,0,0,0,0,0,0,0,0,0]\n",
    "for i  in test_labels:\n",
    "    list[i]+=1\n",
    "print(list)"
   ]
  },
  {
   "cell_type": "code",
   "execution_count": 2,
   "metadata": {},
   "outputs": [],
   "source": [
    "\n",
    "from cs231n.classifiers import KNearestNeighbor\n",
    "import random\n",
    "# import numpy as np\n",
    "import matplotlib.pyplot as plt\n",
    "%matplotlib inline\n",
    "%load_ext autoreload\n",
    "%autoreload 2\n",
    "\n",
    "\n",
    "# Create a kNN classifier instance. \n",
    "# Remember that training a kNN classifier is a noop: \n",
    "# the Classifier simply remembers the data and does no further processing \n",
    "classifier = KNearestNeighbor()\n",
    "classifier.train(train_data,train_labels)"
   ]
  },
  {
   "cell_type": "code",
   "execution_count": 3,
   "metadata": {},
   "outputs": [
    {
     "name": "stdout",
     "output_type": "stream",
     "text": [
      "(10000, 60000)\n",
      "No loop version took 275.517143 seconds\n",
      "totally cost: 0 h 4 min 35.517143 s \n"
     ]
    },
    {
     "name": "stderr",
     "output_type": "stream",
     "text": [
      "E:\\pycharm\\project\\assignment1\\cs231n\\classifiers\\k_nearest_neighbor.py:144: RuntimeWarning: invalid value encountered in sqrt\n",
      "  dists = np.sqrt(dists)\n"
     ]
    }
   ],
   "source": [
    "import time\n",
    "tic = time.time()\n",
    "# (test_data,test_labels)\n",
    "\n",
    "dists = classifier.compute_distances_no_loops(test_data)\n",
    "print(dists.shape)\n",
    "toc = time.time()\n",
    "no_loop_time = toc-tic\n",
    "print('No loop version took %f seconds' % no_loop_time)\n",
    "print('totally cost: %d h %d min %f s ' % ((no_loop_time)/3600, (no_loop_time)/60%60, (no_loop_time) % 60))"
   ]
  },
  {
   "cell_type": "code",
   "execution_count": 8,
   "metadata": {},
   "outputs": [
    {
     "name": "stdout",
     "output_type": "stream",
     "text": [
      "Got 1134 / 10000 correct => accuracy: 0.113400\n",
      "Got 1125 / 10000 correct => accuracy: 0.112500\n",
      "Got 1104 / 10000 correct => accuracy: 0.110400\n",
      "Got 1130 / 10000 correct => accuracy: 0.113000\n",
      "Got 1116 / 10000 correct => accuracy: 0.111600\n",
      "Got 1124 / 10000 correct => accuracy: 0.112400\n",
      "Got 1135 / 10000 correct => accuracy: 0.113500\n",
      "Got 1125 / 10000 correct => accuracy: 0.112500\n",
      "Got 1131 / 10000 correct => accuracy: 0.113100\n",
      "Got 1138 / 10000 correct => accuracy: 0.113800\n",
      "Got 1136 / 10000 correct => accuracy: 0.113600\n",
      "Got 1137 / 10000 correct => accuracy: 0.113700\n",
      "Got 1137 / 10000 correct => accuracy: 0.113700\n",
      "Got 1135 / 10000 correct => accuracy: 0.113500\n",
      "Got 1136 / 10000 correct => accuracy: 0.113600\n",
      "Got 1136 / 10000 correct => accuracy: 0.113600\n",
      "Got 1135 / 10000 correct => accuracy: 0.113500\n",
      "Got 1135 / 10000 correct => accuracy: 0.113500\n",
      "Got 1135 / 10000 correct => accuracy: 0.113500\n",
      "Got 1135 / 10000 correct => accuracy: 0.113500\n",
      "Got 1135 / 10000 correct => accuracy: 0.113500\n",
      "Got 1135 / 10000 correct => accuracy: 0.113500\n",
      "Got 1135 / 10000 correct => accuracy: 0.113500\n",
      "Got 1135 / 10000 correct => accuracy: 0.113500\n",
      "Got 1135 / 10000 correct => accuracy: 0.113500\n",
      "Got 1135 / 10000 correct => accuracy: 0.113500\n",
      "Got 1135 / 10000 correct => accuracy: 0.113500\n",
      "Got 1135 / 10000 correct => accuracy: 0.113500\n",
      "Got 1135 / 10000 correct => accuracy: 0.113500\n"
     ]
    }
   ],
   "source": [
    "k_choices =  range(1, 30)\n",
    "accuracy_list =[]\n",
    "\n",
    "for k in k_choices:\n",
    "    y_test_pred = classifier.predict_labels(dists, k=k)\n",
    "    num_correct = np.sum(y_test_pred == test_labels)\n",
    "    accuracy = float(num_correct) / test_data.shape[0]\n",
    "    accuracy_list.append(accuracy)\n",
    "#     print(accuracy)\n",
    "    print('Got %d / %d correct => accuracy: %f' % (num_correct,test_data.shape[0], accuracy))\n"
   ]
  },
  {
   "cell_type": "code",
   "execution_count": 10,
   "metadata": {},
   "outputs": [
    {
     "name": "stdout",
     "output_type": "stream",
     "text": [
      "[0.1134, 0.1125, 0.1104, 0.113, 0.1116, 0.1124, 0.1135, 0.1125, 0.1131, 0.1138, 0.1136, 0.1137, 0.1137, 0.1135, 0.1136, 0.1136, 0.1135, 0.1135, 0.1135, 0.1135, 0.1135, 0.1135, 0.1135, 0.1135, 0.1135, 0.1135, 0.1135, 0.1135, 0.1135]\n"
     ]
    },
    {
     "data": {
      "image/png": "[encoded data removed]",
      "text/plain": [
       "<Figure size 432x288 with 1 Axes>"
      ]
     },
     "metadata": {
      "needs_background": "light"
     },
     "output_type": "display_data"
    }
   ],
   "source": [
    "print(accuracy_list)\n",
    "\n",
    "plt.plot(k_choices,accuracy_list,color=\"red\",linewidth=1 )\n",
    "plt.title('Accuracy on k')\n",
    "plt.xlabel('k')\n",
    "plt.ylabel('accuracy')\n",
    "plt.show()"
   ]
  },
  {
   "cell_type": "code",
   "execution_count": null,
   "metadata": {},
   "outputs": [],
   "source": []
  }
 ],
 "metadata": {
  "kernelspec": {
   "display_name": "Python 3",
   "language": "python",
   "name": "python3"
  },
  "language_info": {
   "codemirror_mode": {
    "name": "ipython",
    "version": 3
   },
   "file_extension": ".py",
   "mimetype": "text/x-python",
   "name": "python",
   "nbconvert_exporter": "python",
   "pygments_lexer": "ipython3",
   "version": "3.6.12"
  }
 },
 "nbformat": 4,
 "nbformat_minor": 4
}
