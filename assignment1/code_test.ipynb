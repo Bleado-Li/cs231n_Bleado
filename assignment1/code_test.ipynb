{
 "cells": [
  {
   "cell_type": "code",
   "execution_count": 1,
   "metadata": {},
   "outputs": [
    {
     "name": "stdout",
     "output_type": "stream",
     "text": [
      "Training data shape:  (50000, 32, 32, 3)\n",
      "Training labels shape:  (50000,)\n",
      "Test data shape:  (10000, 32, 32, 3)\n",
      "Test labels shape:  (10000,)\n",
      "(5000, 3072) (500, 3072)\n"
     ]
    }
   ],
   "source": [
    "# Run some setup code for this notebook.\n",
    "\n",
    "import random\n",
    "import numpy as np\n",
    "from cs231n.data_utils import load_CIFAR10\n",
    "import matplotlib.pyplot as plt\n",
    "\n",
    "# This is a bit of magic to make matplotlib figures appear inline in the notebook\n",
    "# rather than in a new window.\n",
    "%matplotlib inline\n",
    "plt.rcParams['figure.figsize'] = (10.0, 8.0) # set default size of plots\n",
    "plt.rcParams['image.interpolation'] = 'nearest'\n",
    "plt.rcParams['image.cmap'] = 'gray'\n",
    "\n",
    "# Some more magic so that the notebook will reload external python modules;\n",
    "# see http://stackoverflow.com/questions/1907993/autoreload-of-modules-in-ipython\n",
    "%load_ext autoreload\n",
    "%autoreload 2\n",
    "\n",
    "\n",
    "\n",
    "# Load the raw CIFAR-10 data.\n",
    "cifar10_dir = 'cs231n/datasets/cifar-10-batches-py'\n",
    "\n",
    "# Cleaning up variables to prevent loading data multiple times (which may cause memory issue)\n",
    "try:\n",
    "   del X_train, y_train\n",
    "   del X_test, y_test\n",
    "   print('Clear previously loaded data.')\n",
    "except:\n",
    "   pass\n",
    "\n",
    "X_train, y_train, X_test, y_test = load_CIFAR10(cifar10_dir)\n",
    "\n",
    "# As a sanity check, we print out the size of the training and test data.\n",
    "print('Training data shape: ', X_train.shape)\n",
    "print('Training labels shape: ', y_train.shape)\n",
    "print('Test data shape: ', X_test.shape)\n",
    "print('Test labels shape: ', y_test.shape)\n",
    "\n",
    "\n",
    "# Subsample the data for more efficient code execution in this exercise\n",
    "num_training = 5000\n",
    "mask = list(range(num_training))\n",
    "X_train = X_train[mask]\n",
    "y_train = y_train[mask]\n",
    "\n",
    "num_test = 500\n",
    "mask = list(range(num_test))\n",
    "X_test = X_test[mask]\n",
    "y_test = y_test[mask]\n",
    "\n",
    "# Reshape the image data into rows\n",
    "X_train = np.reshape(X_train, (X_train.shape[0], -1))\n",
    "X_test = np.reshape(X_test, (X_test.shape[0], -1))\n",
    "print(X_train.shape, X_test.shape)"
   ]
  },
  {
   "cell_type": "code",
   "execution_count": 25,
   "metadata": {},
   "outputs": [],
   "source": [
    "from cs231n.classifiers import KNearestNeighbor\n",
    "\n",
    "# Create a kNN classifier instance. \n",
    "# Remember that training a kNN classifier is a noop: \n",
    "# the Classifier simply remembers the data and does no further processing \n",
    "classifier = KNearestNeighbor()\n",
    "classifier.train(X_train, y_train)"
   ]
  },
  {
   "cell_type": "code",
   "execution_count": 27,
   "metadata": {},
   "outputs": [
    {
     "name": "stdout",
     "output_type": "stream",
     "text": [
      "[[1 2 3]\n",
      " [4 5 6]]\n",
      "<class 'numpy.ndarray'>\n"
     ]
    }
   ],
   "source": [
    "num_folds = 5\n",
    "k_choices = [1, 3, 5, 8, 10, 12, 15, 20, 50, 100]\n",
    "\n",
    "X_train_folds = []\n",
    "y_train_folds = []\n",
    "################################################################################\n",
    "# TODO:                                                                        #\n",
    "# Split up the training data into folds. After splitting, X_train_folds and    #\n",
    "# y_train_folds should each be lists of length num_folds, where                #\n",
    "# y_train_folds[i] is the label vector for the points in X_train_folds[i].     #\n",
    "# Hint: Look up the numpy array_split function.                                #\n",
    "################################################################################\n",
    "# *****START OF YOUR CODE (DO NOT DELETE/MODIFY THIS LINE)*****\n",
    "\n",
    "X_train_folds = np.array_split(X_train, num_folds) \n",
    "y_train_folds = np.array_split(y_train, num_folds)\n",
    "pass\n",
    "\n",
    "# *****END OF YOUR CODE (DO NOT DELETE/MODIFY THIS LINE)*****\n",
    "\n",
    "# A dictionary holding the accuracies for different values of k that we find\n",
    "# when running cross-validation. After running cross-validation,\n",
    "# k_to_accuracies[k] should be a list of length num_folds giving the different\n",
    "# accuracy values that we found when using that value of k.\n",
    "k_to_accuracies = {}\n",
    "\n",
    "\n",
    "################################################################################\n",
    "# TODO:                                                                        #\n",
    "# Perform k-fold cross validation to find the best value of k. For each        #\n",
    "# possible value of k, run the k-nearest-neighbor algorithm num_folds times,   #\n",
    "# where in each case you use all but one of the folds as training data and the #\n",
    "# last fold as a validation set. Store the accuracies for all fold and all     #\n",
    "# values of k in the k_to_accuracies dictionary.                               #\n",
    "################################################################################\n",
    "# *****START OF YOUR CODE (DO NOT DELETE/MODIFY THIS LINE)*****\n",
    "\n",
    "    \n",
    "classifier = KNearestNeighbor()\n",
    "# accuracies = np.zeros(num_folds)\n",
    "# print(type(X_train_folds))\n",
    "# print(len(X_train_folds))\n",
    "# print(len(X_train_folds[0]))\n",
    "# # print(X_train_folds)\n",
    "# # print(X_train_folds.shape)\n",
    "# temp_X = X_train_folds[:]\n",
    "# # print(temp_X.shape)\n",
    "# print(len(temp_X))\n",
    "# print(len(temp_X[1]))\n",
    "# X_validate_fold = temp_X.pop(2)\n",
    "# print(len(X_validate_fold[0]))\n",
    "# print(len(temp_X))\n",
    "# print(len(temp_X[1]))\n",
    "# print()\n",
    "# [y for x in temp_X for y in x]\n",
    "# temp_X = np.array([y for x in temp_X for y in x])\n",
    "# print(len(temp_X))\n",
    "# print(len(temp_X[1]))\n",
    "# for k in k_choices:\n",
    "#     accuracies = np.zeros(num_folds)\n",
    "#     for fold in range(num_folds):\n",
    "#         temp_X = X_train_folds[:]\n",
    "#         temp_y = y_train_folds[:]\n",
    "#         X_validate_fold = temp_X.pop(fold)\n",
    "#         y_validate_fold = temp_y.pop(fold)\n",
    "\n",
    "#         temp_X = np.array([y for x in temp_X for y in x])\n",
    "#         temp_y = np.array([y for x in temp_y for y in x])\n",
    "#         print(type(temp_X))\n",
    "#         classifier.train(temp_X, temp_y)\n",
    "\n",
    "#         y_test_pred = classifier.predict(X_validate_fold, k=k)\n",
    "#         num_correct = np.sum(y_test_pred == y_validate_fold)\n",
    "#         accuracy = float(num_correct) / len(y_validate_fold)\n",
    "#         accuracies[fold] =accuracy\n",
    "#     k_to_accuracies[k] = accuracies\n",
    "# print(len(y_validate_fold))\n",
    "\n",
    "X=[[1,2,3],[4,5,6]]\n",
    "Y = np.array([x for x in X ])\n",
    "print(Y)\n",
    "print(type(Y))"
   ]
  },
  {
   "cell_type": "code",
   "execution_count": 58,
   "metadata": {},
   "outputs": [
    {
     "name": "stdout",
     "output_type": "stream",
     "text": [
      "[94.2745627170139, 79.67420301649305, 66.39199652777778]\n",
      "Time : 0.159573s\n"
     ]
    }
   ],
   "source": [
    "import time \n",
    "from PIL import Image\n",
    "import numpy as np\n",
    "\n",
    "start = time.time()\n",
    "def get_mean_pixel(path):\n",
    "    img = np.array(Image.open(path))\n",
    "#     print(img.shape)# 1440,2560,4\n",
    "    img_three = img[:,:,:3]\n",
    "#     print(img_three.shape)# 1440,2560,3\n",
    "    img_three = img_three.transpose(2,0,1)\n",
    "#     print(img_three.shape)# 3,1440,2560\n",
    "    mean_pixel= [0,0,0]\n",
    "    for i in range(3):\n",
    "        mean_pixel[i] = np.mean(img_three[i])    \n",
    "    return mean_pixel \n",
    "# 图片路径\n",
    "path = 'E:\\\\pycharm\\\\project\\\\assignment1\\\\image.png'\n",
    "print(get_mean_pixel(path))\n",
    "end = time.time()\n",
    "print(\"Time : %fs\" %(end - start))\n"
   ]
  },
  {
   "cell_type": "code",
   "execution_count": 88,
   "metadata": {},
   "outputs": [
    {
     "name": "stdout",
     "output_type": "stream",
     "text": [
      "[[1 2 3]\n",
      " [4 5 6]]\n",
      "[3 2 1]\n",
      "[[0 0 0]\n",
      " [4 5 6]]\n",
      "[0 0 0]\n"
     ]
    }
   ],
   "source": [
    "import numpy as np\n",
    "x =  np.array([[1,2,3],[4,5,6]])\n",
    "y =  np.array([2,1,0])\n",
    "# ind = np.zeros_like(x)\n",
    "ind =x\n",
    "print(ind)\n",
    "print(ind[np.arange(1), y])\n",
    "ind[np.arange(1), y] = 0\n",
    "print(ind)\n",
    "print(ind[np.arange(1), y])"
   ]
  }
 ],
 "metadata": {
  "kernelspec": {
   "display_name": "Python 3",
   "language": "python",
   "name": "python3"
  },
  "language_info": {
   "codemirror_mode": {
    "name": "ipython",
    "version": 3
   },
   "file_extension": ".py",
   "mimetype": "text/x-python",
   "name": "python",
   "nbconvert_exporter": "python",
   "pygments_lexer": "ipython3",
   "version": "3.8.5"
  }
 },
 "nbformat": 4,
 "nbformat_minor": 4
}
