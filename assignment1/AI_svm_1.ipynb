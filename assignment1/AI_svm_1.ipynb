{
 "cells": [
  {
   "cell_type": "code",
   "execution_count": 1,
   "metadata": {},
   "outputs": [],
   "source": [
    "# Run some setup code for this notebook.\n",
    "import random\n",
    "import numpy as np\n",
    "from cs231n.data_utils import load_CIFAR10\n",
    "import matplotlib.pyplot as plt\n",
    "\n",
    "# This is a bit of magic to make matplotlib figures appear inline in the\n",
    "# notebook rather than in a new window.\n",
    "%matplotlib inline\n",
    "plt.rcParams['figure.figsize'] = (10.0, 8.0) # set default size of plots\n",
    "plt.rcParams['image.interpolation'] = 'nearest'\n",
    "plt.rcParams['image.cmap'] = 'gray'\n",
    "\n",
    "# Some more magic so that the notebook will reload external python modules;\n",
    "# see http://stackoverflow.com/questions/1907993/autoreload-of-modules-in-ipython\n",
    "%load_ext autoreload\n",
    "%autoreload 2"
   ]
  },
  {
   "cell_type": "code",
   "execution_count": 2,
   "metadata": {},
   "outputs": [
    {
     "name": "stdout",
     "output_type": "stream",
     "text": [
      "Training data shape:  (50000, 32, 32, 3)\n",
      "Training labels shape:  (50000,)\n",
      "Test data shape:  (10000, 32, 32, 3)\n",
      "Test labels shape:  (10000,)\n"
     ]
    }
   ],
   "source": [
    "# Load the raw CIFAR-10 data.\n",
    "cifar10_dir = 'cs231n/datasets/cifar-10-batches-py'\n",
    "\n",
    "# Cleaning up variables to prevent loading data multiple times (which may cause memory issue)\n",
    "try:\n",
    "   del X_train, y_train\n",
    "   del X_test, y_test\n",
    "   print('Clear previously loaded data.')\n",
    "except:\n",
    "   pass\n",
    "\n",
    "X_train, y_train, X_test, y_test = load_CIFAR10(cifar10_dir)\n",
    "\n",
    "# As a sanity check, we print out the size of the training and test data.\n",
    "print('Training data shape: ', X_train.shape)\n",
    "print('Training labels shape: ', y_train.shape)\n",
    "print('Test data shape: ', X_test.shape)\n",
    "print('Test labels shape: ', y_test.shape)\n",
    "# print(y_test)"
   ]
  },
  {
   "cell_type": "code",
   "execution_count": null,
   "metadata": {},
   "outputs": [],
   "source": [
    "num_label_train = [0,0,0,0,0,0,0,0,0,0]\n",
    "for i in range(y_train.shape[0]):\n",
    "    num_label_train[y_train[i]] += 1\n",
    "                   \n",
    "                 \n",
    "num_label_test = [0,0,0,0,0,0,0,0,0,0]\n",
    "for i in range(y_train.shape[0]):   \n",
    "    num_label_test[y_test[i]] += 1"
   ]
  },
  {
   "cell_type": "code",
   "execution_count": 4,
   "metadata": {},
   "outputs": [
    {
     "name": "stdout",
     "output_type": "stream",
     "text": [
      "[6 9 9 ... 9 1 1]\n"
     ]
    }
   ],
   "source": [
    "print(y_train)"
   ]
  },
  {
   "cell_type": "code",
   "execution_count": 3,
   "metadata": {},
   "outputs": [
    {
     "name": "stdout",
     "output_type": "stream",
     "text": [
      "Train data shape:  (49000, 32, 32, 3)\n",
      "Train labels shape:  (49000,)\n",
      "Validation data shape:  (1000, 32, 32, 3)\n",
      "Validation labels shape:  (1000,)\n",
      "Test data shape:  (1000, 32, 32, 3)\n",
      "Test labels shape:  (1000,)\n"
     ]
    }
   ],
   "source": [
    "# Split the data into train, val, and test sets. In addition we will\n",
    "# create a small development set as a subset of the training data;\n",
    "# we can use this for development so our code runs faster.\n",
    "num_training = 49000\n",
    "num_validation = 1000\n",
    "num_test = 1000\n",
    "num_dev = 500\n",
    "\n",
    "# Our validation set will be num_validation points from the original\n",
    "# training set.\n",
    "mask = range(num_training, num_training + num_validation)\n",
    "X_val = X_train[mask]\n",
    "y_val = y_train[mask]\n",
    "\n",
    "# Our training set will be the first num_train points from the original\n",
    "# training set.\n",
    "mask = range(num_training)\n",
    "X_train = X_train[mask]\n",
    "y_train = y_train[mask]\n",
    "\n",
    "# We will also make a development set, which is a small subset of\n",
    "# the training set.\n",
    "mask = np.random.choice(num_training, num_dev, replace=False)\n",
    "X_dev = X_train[mask]\n",
    "y_dev = y_train[mask]\n",
    "\n",
    "# We use the first num_test points of the original test set as our\n",
    "# test set.\n",
    "mask = range(num_test)\n",
    "X_test = X_test[mask]\n",
    "y_test = y_test[mask]\n",
    "\n",
    "print('Train data shape: ', X_train.shape)\n",
    "print('Train labels shape: ', y_train.shape)\n",
    "print('Validation data shape: ', X_val.shape)\n",
    "print('Validation labels shape: ', y_val.shape)\n",
    "print('Test data shape: ', X_test.shape)\n",
    "print('Test labels shape: ', y_test.shape)"
   ]
  },
  {
   "cell_type": "code",
   "execution_count": 4,
   "metadata": {},
   "outputs": [
    {
     "name": "stdout",
     "output_type": "stream",
     "text": [
      "Training data shape:  (49000, 3072)\n",
      "Validation data shape:  (1000, 3072)\n",
      "Test data shape:  (1000, 3072)\n",
      "dev data shape:  (500, 3072)\n"
     ]
    }
   ],
   "source": [
    "# Preprocessing: reshape the image data into rows\n",
    "X_train = np.reshape(X_train, (X_train.shape[0], -1))\n",
    "X_val = np.reshape(X_val, (X_val.shape[0], -1))\n",
    "X_test = np.reshape(X_test, (X_test.shape[0], -1))\n",
    "X_dev = np.reshape(X_dev, (X_dev.shape[0], -1))\n",
    "\n",
    "# As a sanity check, print out the shapes of the data\n",
    "print('Training data shape: ', X_train.shape)\n",
    "print('Validation data shape: ', X_val.shape)\n",
    "print('Test data shape: ', X_test.shape)\n",
    "print('dev data shape: ', X_dev.shape)"
   ]
  },
  {
   "cell_type": "code",
   "execution_count": 5,
   "metadata": {},
   "outputs": [
    {
     "name": "stdout",
     "output_type": "stream",
     "text": [
      "(3072,)\n",
      "[130.64189796 135.98173469 132.47391837 130.05569388 135.34804082\n",
      " 131.75402041 130.96055102 136.14328571 132.47636735 131.48467347]\n"
     ]
    },
    {
     "data": {
      "image/png": "[encoded data removed]",
      "text/plain": [
       "<Figure size 288x288 with 1 Axes>"
      ]
     },
     "metadata": {
      "needs_background": "light"
     },
     "output_type": "display_data"
    },
    {
     "name": "stdout",
     "output_type": "stream",
     "text": [
      "Training data shape:  (49000, 3072)\n"
     ]
    }
   ],
   "source": [
    "# Preprocessing: subtract the mean image\n",
    "# first: compute the image mean based on the training data\n",
    "mean_image = np.mean(X_train, axis=0)\n",
    "print(mean_image.shape)\n",
    "print(mean_image[:10]) # print a few of the elements\n",
    "plt.figure(figsize=(4,4))\n",
    "plt.imshow(mean_image.reshape((32,32,3)).astype('uint8')) # visualize the mean image\n",
    "plt.show()\n",
    "\n",
    "# second: subtract the mean image from train and test data\n",
    "\n",
    "print('Training data shape: ', X_train.shape)\n",
    "X_train -= mean_image\n",
    "X_val -= mean_image\n",
    "X_test -= mean_image\n",
    "X_dev -= mean_image\n"
   ]
  },
  {
   "cell_type": "code",
   "execution_count": 6,
   "metadata": {},
   "outputs": [],
   "source": [
    "\n",
    "from sklearn.model_selection import train_test_split\n",
    "from sklearn.preprocessing import MinMaxScaler,StandardScaler\n",
    "from sklearn.decomposition import PCA\n",
    "import numpy as np\n",
    "from sklearn.model_selection import GridSearchCV\n",
    "from sklearn.svm import SVC\n",
    "from sklearn.metrics import classification_report,confusion_matrix\n",
    "import sklearn.svm\n",
    "import matplotlib.pyplot as plt\n",
    "from sklearn.model_selection import learning_curve\n",
    "from sklearn.model_selection import ShuffleSplit"
   ]
  },
  {
   "cell_type": "code",
   "execution_count": 8,
   "metadata": {},
   "outputs": [
    {
     "name": "stdout",
     "output_type": "stream",
     "text": [
      "最优参数:{'C': 0.1, 'coef0': -5, 'gamma': 1},对应score:0.1799913686141231\n",
      "最优clf:SVC(C=0.1, coef0=-5, gamma=1, kernel='sigmoid')\n",
      "Time:computed in 1485.183693s\n"
     ]
    }
   ],
   "source": [
    "train_X = X_val\n",
    "train_Y = y_val\n",
    "# train_X = X_dev\n",
    "# train_Y = y_dev\n",
    "\n",
    "import time\n",
    "tic = time.time()\n",
    "\n",
    "clf = SVC(kernel='sigmoid') #引入sigmoid核 函数  K(x,z)=tanh（vx ∙ z+c)\n",
    "# coef0 = np.linspace(-5, 0, 10)\n",
    "C = [0.1,1,10,100]\n",
    "coef0 = [-5,-4,-3,-2,-1,0]\n",
    "gamma = [1,2,3,4,5]\n",
    "param_grid = {'C':C,'coef0': coef0,'gamma': gamma}\n",
    "clf = GridSearchCV(clf, param_grid, cv=3, return_train_score=True)\n",
    "clf.fit(train_X,train_Y)\n",
    "print(\"最优参数:{},对应score:{}\".format(clf.best_params_, clf.best_score_))\n",
    "print(\"最优clf:{}\".format(clf.best_estimator_))\n",
    "\n",
    "toc = time.time()\n",
    "print('Time:computed in %fs' % (toc - tic))\n"
   ]
  },
  {
   "cell_type": "code",
   "execution_count": 15,
   "metadata": {},
   "outputs": [
    {
     "name": "stdout",
     "output_type": "stream",
     "text": [
      "[[6.29787749 9.31211917 3.74158745 ... 1.70692029 7.29443993 7.30574683]\n",
      " [6.3066325  0.68230806 3.72575654 ... 6.2785768  5.26571652 1.69969564]\n",
      " [3.09794591 9.28831235 4.88536752 ... 4.02440654 7.20890369 7.2011288 ]\n",
      " ...\n",
      " [6.25459276 6.17414676 0.70216774 ... 2.71977758 9.3183385  8.307876  ]\n",
      " [9.31162612 5.24409952 2.77243623 ... 1.77997474 8.2981386  7.25588674]\n",
      " [2.80004713 7.26684128 5.25536208 ... 6.28821392 0.7045322  9.29417643]]\n",
      "[[ -21.64189796    6.01826531   44.52608163 ...  -80.64218367\n",
      "   -84.86195918  -75.39957143]\n",
      " [-122.64189796  -93.98173469  -26.47391837 ...    3.35781633\n",
      "    14.13804082   67.60042857]\n",
      " [  -9.64189796   34.01826531   56.52608163 ...  -69.64218367\n",
      "    11.13804082   40.60042857]\n",
      " ...\n",
      " [  16.35810204   -5.98173469  -71.47391837 ...    4.35781633\n",
      "    -5.86195918  -24.39957143]\n",
      " [  98.35810204   97.01826531  113.52608163 ...    6.35781633\n",
      "     6.13804082   12.60042857]\n",
      " [ -95.64189796   42.01826531  102.52608163 ... -114.64218367\n",
      "   -94.86195918  -64.39957143]]\n"
     ]
    }
   ],
   "source": [
    "train_X = X_val\n",
    "train_Y = y_val\n",
    "clf = SVC(kernel='sigmoid')\n",
    "clf.fit(train_X,train_Y)\n",
    "score_train = clf.score(train_X,train_Y)\n",
    "# score_test = clf.score(test_X,test_Y)\n",
    "\n",
    "\n",
    "print(clf.decision_function(train_X))\n",
    "\n",
    "print(clf.support_vectors_)"
   ]
  },
  {
   "cell_type": "code",
   "execution_count": 16,
   "metadata": {},
   "outputs": [],
   "source": [
    "juece = clf.decision_function(train_X)\n",
    "sv = clf.support_vectors_"
   ]
  },
  {
   "cell_type": "code",
   "execution_count": 17,
   "metadata": {},
   "outputs": [
    {
     "name": "stdout",
     "output_type": "stream",
     "text": [
      "(1000, 10)\n",
      "(973, 3072)\n"
     ]
    }
   ],
   "source": [
    "print(juece.shape)\n",
    "print(sv.shape)"
   ]
  },
  {
   "cell_type": "code",
   "execution_count": 21,
   "metadata": {},
   "outputs": [
    {
     "name": "stdout",
     "output_type": "stream",
     "text": [
      "(9, 973)\n",
      "(45,)\n"
     ]
    }
   ],
   "source": [
    "w = clf.dual_coef_\n",
    "print(w.shape)\n",
    "w =clf.intercept_\n",
    "print(w.shape)"
   ]
  },
  {
   "cell_type": "code",
   "execution_count": null,
   "metadata": {},
   "outputs": [],
   "source": [
    "def pca(data_train,data_test):\n",
    "#     print(\"原来数据：\\n\",data_train,data_test)\n",
    "    # 实例化转换器类\n",
    "    transfer = PCA(n_components = 10)\n",
    "    pca_model = transfer.fit(data_train)\n",
    "    data_new1 = pca_model.transform(data_train)\n",
    "    data_new2 = pca_model.transform(data_test)    \n",
    "    print(\"处理后结果：\\n\",data_new1,data_new2)\n",
    "    print(\"处理后shape：\\n\",data_new1.shape,data_new2.shape)\n",
    "    \n",
    "    return data_new1,data_new2\n",
    "\n",
    "train_pca,test_pca = pca(train_X,train_Y)"
   ]
  },
  {
   "cell_type": "code",
   "execution_count": 7,
   "metadata": {},
   "outputs": [],
   "source": [
    "\n",
    "train_X = X_val\n",
    "train_Y = y_val\n",
    "test_X = X_dev\n",
    "test_Y = y_dev"
   ]
  },
  {
   "cell_type": "code",
   "execution_count": 11,
   "metadata": {},
   "outputs": [
    {
     "name": "stdout",
     "output_type": "stream",
     "text": [
      "Train score : 0.105\n",
      "Test score : 0.116\n",
      "Time: 0h 0min 8.497122 s\n",
      "Time:1h 56min 33.044922 s\n"
     ]
    }
   ],
   "source": [
    "import time\n",
    "# print(\"start\")\n",
    "start = time.time()\n",
    "svm_sigmoid = SVC(kernel='sigmoid',gamma = 1,coef0=-0.001)\n",
    "\n",
    "svm_sigmoid.fit(train_X,train_Y)\n",
    "score_train = svm_sigmoid.score(train_X,train_Y)\n",
    "print(\"Train score :\",score_train)\n",
    "score_test = svm_sigmoid.score(test_X,test_Y)\n",
    "print(\"Test score :\",score_test)\n",
    "end = time.time()\n",
    "T = end - start\n",
    "print(\"Time: %dh %dmin %f s\" %(T/3600,T/60%60,T%60))\n",
    "time =  6993.044922\n",
    "print(\"Time:%dh %dmin %f s\" %(time/3600,time/60%60,time%60))"
   ]
  }
 ],
 "metadata": {
  "kernelspec": {
   "display_name": "Python 3",
   "language": "python",
   "name": "python3"
  },
  "language_info": {
   "codemirror_mode": {
    "name": "ipython",
    "version": 3
   },
   "file_extension": ".py",
   "mimetype": "text/x-python",
   "name": "python",
   "nbconvert_exporter": "python",
   "pygments_lexer": "ipython3",
   "version": "3.8.5"
  }
 },
 "nbformat": 4,
 "nbformat_minor": 4
}
